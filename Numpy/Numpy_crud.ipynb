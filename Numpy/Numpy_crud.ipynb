{
 "cells": [
  {
   "cell_type": "code",
   "execution_count": 1,
   "metadata": {},
   "outputs": [],
   "source": [
    "import numpy as np"
   ]
  },
  {
   "cell_type": "markdown",
   "metadata": {},
   "source": [
    "# 1. Create"
   ]
  },
  {
   "cell_type": "code",
   "execution_count": 2,
   "metadata": {},
   "outputs": [
    {
     "data": {
      "text/plain": [
       "array([[[0., 0.],\n",
       "        [0., 0.]],\n",
       "\n",
       "       [[0., 0.],\n",
       "        [0., 0.]]])"
      ]
     },
     "execution_count": 2,
     "metadata": {},
     "output_type": "execute_result"
    }
   ],
   "source": [
    "# 3-dimensional array\n",
    "# z, x, y\n",
    "zeroes = np.zeros((2,2,2))\n",
    "zeroes"
   ]
  },
  {
   "cell_type": "code",
   "execution_count": 4,
   "metadata": {},
   "outputs": [
    {
     "data": {
      "text/plain": [
       "array([[[7, 7],\n",
       "        [7, 7]],\n",
       "\n",
       "       [[7, 7],\n",
       "        [7, 7]]])"
      ]
     },
     "execution_count": 4,
     "metadata": {},
     "output_type": "execute_result"
    }
   ],
   "source": [
    "full = np.full((2,2,2), 7)\n",
    "full"
   ]
  },
  {
   "cell_type": "code",
   "execution_count": 3,
   "metadata": {},
   "outputs": [
    {
     "data": {
      "text/plain": [
       "array([[[0.39221009, 0.13652389, 0.25511852, 0.8155153 ],\n",
       "        [0.90972557, 0.1114414 , 0.49529569, 0.75019009],\n",
       "        [0.27073254, 0.28202062, 0.29784552, 0.81588164]],\n",
       "\n",
       "       [[0.31834838, 0.59296659, 0.80404859, 0.3710219 ],\n",
       "        [0.6745543 , 0.85528926, 0.54666819, 0.7588404 ],\n",
       "        [0.09977387, 0.06861438, 0.82088945, 0.52399028]]])"
      ]
     },
     "execution_count": 3,
     "metadata": {},
     "output_type": "execute_result"
    }
   ],
   "source": [
    "data = np.random.rand(2,3,4)\n",
    "data"
   ]
  },
  {
   "cell_type": "code",
   "execution_count": 5,
   "metadata": {},
   "outputs": [
    {
     "data": {
      "text/plain": [
       "array([[[1., 1.],\n",
       "        [1., 1.]],\n",
       "\n",
       "       [[1., 1.],\n",
       "        [1., 1.]]])"
      ]
     },
     "execution_count": 5,
     "metadata": {},
     "output_type": "execute_result"
    }
   ],
   "source": [
    "ones = np.ones((2,2,2))\n",
    "ones"
   ]
  },
  {
   "cell_type": "code",
   "execution_count": 6,
   "metadata": {},
   "outputs": [
    {
     "data": {
      "text/plain": [
       "array([[1, 2, 3, 4],\n",
       "       [1, 2, 3, 4]])"
      ]
     },
     "execution_count": 6,
     "metadata": {},
     "output_type": "execute_result"
    }
   ],
   "source": [
    "# create an array of lists of numbers\n",
    "arr = np.array([[1,2,3,4],[1,2,3,4]])\n",
    "arr"
   ]
  },
  {
   "cell_type": "code",
   "execution_count": 7,
   "metadata": {},
   "outputs": [
    {
     "data": {
      "text/plain": [
       "numpy.ndarray"
      ]
     },
     "execution_count": 7,
     "metadata": {},
     "output_type": "execute_result"
    }
   ],
   "source": [
    "type(arr)"
   ]
  },
  {
   "cell_type": "markdown",
   "metadata": {},
   "source": [
    "# 2. Read"
   ]
  },
  {
   "cell_type": "code",
   "execution_count": 9,
   "metadata": {},
   "outputs": [
    {
     "name": "stdout",
     "output_type": "stream",
     "text": [
      "Shape: (2, 3, 4)\n",
      "Size: 24\n",
      "types: float64\n"
     ]
    }
   ],
   "source": [
    "# Attributes of arrays\n",
    "shape = data.shape\n",
    "size = data.size\n",
    "types = data.dtype\n",
    "\n",
    "print(\"Shape:\", shape)\n",
    "print(\"Size:\", size)\n",
    "print(\"types:\", types)"
   ]
  },
  {
   "cell_type": "code",
   "execution_count": 11,
   "metadata": {},
   "outputs": [
    {
     "name": "stdout",
     "output_type": "stream",
     "text": [
      "data[0] = [[0.39221009 0.13652389 0.25511852 0.8155153 ]\n",
      " [0.90972557 0.1114414  0.49529569 0.75019009]\n",
      " [0.27073254 0.28202062 0.29784552 0.81588164]]\n",
      "\n",
      "data[0][0:2] = [[0.39221009 0.13652389 0.25511852 0.8155153 ]\n",
      " [0.90972557 0.1114414  0.49529569 0.75019009]]\n"
     ]
    }
   ],
   "source": [
    "# Slicing\n",
    "arr = data[0]\n",
    "slicer = data[0][0:2]\n",
    "\n",
    "print(\"data[0] =\", arr)\n",
    "print(\"\\ndata[0][0:2] =\", slicer)"
   ]
  },
  {
   "cell_type": "code",
   "execution_count": 13,
   "metadata": {},
   "outputs": [
    {
     "name": "stdout",
     "output_type": "stream",
     "text": [
      "data[-1] = [[0.31834838 0.59296659 0.80404859 0.3710219 ]\n",
      " [0.6745543  0.85528926 0.54666819 0.7588404 ]\n",
      " [0.09977387 0.06861438 0.82088945 0.52399028]]\n",
      "\n",
      "data[0][0][0] = 0.39221008895587417\n"
     ]
    }
   ],
   "source": [
    "reverse = data[-1] # last index\n",
    "singleval = data[0][0][0]\n",
    "\n",
    "print(\"data[-1] =\", reverse)\n",
    "print(\"\\ndata[0][0][0] =\", singleval)"
   ]
  },
  {
   "cell_type": "code",
   "execution_count": 14,
   "metadata": {},
   "outputs": [
    {
     "data": {
      "text/plain": [
       "array([[[0.39221009, 0.13652389, 0.25511852, 0.8155153 ],\n",
       "        [0.90972557, 0.1114414 , 0.49529569, 0.75019009],\n",
       "        [0.27073254, 0.28202062, 0.29784552, 0.81588164]],\n",
       "\n",
       "       [[0.31834838, 0.59296659, 0.80404859, 0.3710219 ],\n",
       "        [0.6745543 , 0.85528926, 0.54666819, 0.7588404 ],\n",
       "        [0.09977387, 0.06861438, 0.82088945, 0.52399028]]])"
      ]
     },
     "execution_count": 14,
     "metadata": {},
     "output_type": "execute_result"
    }
   ],
   "source": [
    "data"
   ]
  },
  {
   "cell_type": "markdown",
   "metadata": {},
   "source": [
    "# 3. Update"
   ]
  },
  {
   "cell_type": "code",
   "execution_count": 24,
   "metadata": {},
   "outputs": [
    {
     "name": "stdout",
     "output_type": "stream",
     "text": [
      "list1 = [2 4 3 5 5 3 3 9 4 7] \n",
      "\n",
      "list2 = [2 3 6 9 3 3 9 5 8 7]\n"
     ]
    }
   ],
   "source": [
    "# create 2 variables to play with them\n",
    "list1 = np.random.randint(1, high=10, size=10) \n",
    "list2 = np.random.randint(1, high=10, size=10) \n",
    "\n",
    "print(\"list1 =\", list1, \"\\n\")\n",
    "print(\"list2 =\", list2)"
   ]
  },
  {
   "cell_type": "code",
   "execution_count": 25,
   "metadata": {},
   "outputs": [],
   "source": [
    "# Basic Math\n",
    "add = np.add(list1, list2)\n",
    "sub = np.subtract(list1, list2)\n",
    "div = np.divide(list1, list2)\n",
    "mult = np.multiply(list1, list2)\n",
    "dot = np.dot(list1, list2)"
   ]
  },
  {
   "cell_type": "code",
   "execution_count": 27,
   "metadata": {},
   "outputs": [
    {
     "name": "stdout",
     "output_type": "stream",
     "text": [
      "add: [ 4  7  9 14  8  6 12 14 12 14] \n",
      "\n",
      "subtract: [ 0  1 -3 -4  2  0 -6  4 -4  0] \n",
      "\n",
      "divide: [1.         1.33333333 0.5        0.55555556 1.66666667 1.\n",
      " 0.33333333 1.8        0.5        1.        ] \n",
      "\n",
      "multiply: [ 4 12 18 45 15  9 27 45 32 49] \n",
      "\n",
      "dot: 256\n"
     ]
    }
   ],
   "source": [
    "print(\"add:\", add, \"\\n\")\n",
    "print(\"subtract:\", sub, \"\\n\")\n",
    "print(\"divide:\", div, \"\\n\")\n",
    "print(\"multiply:\", mult, \"\\n\")\n",
    "print(\"dot:\", dot)"
   ]
  },
  {
   "cell_type": "code",
   "execution_count": 28,
   "metadata": {},
   "outputs": [],
   "source": [
    "# Statistical Functions\n",
    "sqrt = np.sqrt(25)\n",
    "ab = np.abs(-2)\n",
    "power = np.power(2,7)\n",
    "log = np.log(25)\n",
    "exp = np.exp([2,3])\n",
    "mins = np.min(list1)\n",
    "maxs = np.max(list1)"
   ]
  },
  {
   "cell_type": "code",
   "execution_count": 29,
   "metadata": {},
   "outputs": [
    {
     "name": "stdout",
     "output_type": "stream",
     "text": [
      "sqrt: 5.0 \n",
      "\n",
      "abs: 2 \n",
      "\n",
      "power: 128 \n",
      "\n",
      "log: 3.2188758248682006 \n",
      "\n",
      "exp: [ 7.3890561  20.08553692] \n",
      "\n",
      "max: 9 \n",
      "\n",
      "min: 2\n"
     ]
    }
   ],
   "source": [
    "print(\"sqrt:\", sqrt, \"\\n\")\n",
    "print(\"abs:\", ab, \"\\n\")\n",
    "print(\"power:\", power, \"\\n\")\n",
    "print(\"log:\", log, \"\\n\")\n",
    "print(\"exp:\", exp, \"\\n\")\n",
    "print(\"max:\", maxs, \"\\n\")\n",
    "print(\"min:\", mins)"
   ]
  },
  {
   "cell_type": "code",
   "execution_count": 38,
   "metadata": {},
   "outputs": [
    {
     "name": "stdout",
     "output_type": "stream",
     "text": [
      "before: [[[0.39221009 0.13652389 0.25511852 0.8155153 ]\n",
      "  [0.90972557 0.1114414  0.49529569 0.75019009]\n",
      "  [0.27073254 0.28202062 0.29784552 0.81588164]]\n",
      "\n",
      " [[0.31834838 0.59296659 0.80404859 0.3710219 ]\n",
      "  [0.6745543  0.85528926 0.54666819 0.7588404 ]\n",
      "  [0.09977387 0.06861438 0.82088945 0.52399028]]] \n",
      "\n",
      "after: [[[7.00000000e+02 1.36523886e-01 2.55118516e-01 8.15515302e-01]\n",
      "  [9.09725571e-01 1.11441402e-01 4.95295692e-01 7.50190089e-01]\n",
      "  [2.70732541e-01 2.82020618e-01 2.97845516e-01 8.15881639e-01]]\n",
      "\n",
      " [[3.18348382e-01 5.92966590e-01 8.04048595e-01 3.71021896e-01]\n",
      "  [6.74554302e-01 8.55289256e-01 5.46668186e-01 7.58840402e-01]\n",
      "  [9.97738679e-02 6.86143788e-02 8.20889454e-01 5.23990276e-01]]]\n"
     ]
    }
   ],
   "source": [
    "print(\"before:\",data,\"\\n\")\n",
    "data[0][0][0] = 700\n",
    "print(\"after:\",data)"
   ]
  },
  {
   "cell_type": "code",
   "execution_count": 39,
   "metadata": {},
   "outputs": [
    {
     "data": {
      "text/plain": [
       "array([[[1.36523886e-01, 2.55118516e-01, 8.15515302e-01, 7.00000000e+02],\n",
       "        [1.11441402e-01, 4.95295692e-01, 7.50190089e-01, 9.09725571e-01],\n",
       "        [2.70732541e-01, 2.82020618e-01, 2.97845516e-01, 8.15881639e-01]],\n",
       "\n",
       "       [[3.18348382e-01, 3.71021896e-01, 5.92966590e-01, 8.04048595e-01],\n",
       "        [5.46668186e-01, 6.74554302e-01, 7.58840402e-01, 8.55289256e-01],\n",
       "        [6.86143788e-02, 9.97738679e-02, 5.23990276e-01, 8.20889454e-01]]])"
      ]
     },
     "execution_count": 39,
     "metadata": {},
     "output_type": "execute_result"
    }
   ],
   "source": [
    "# sorting\n",
    "data.sort()\n",
    "data"
   ]
  },
  {
   "cell_type": "code",
   "execution_count": 41,
   "metadata": {},
   "outputs": [
    {
     "name": "stdout",
     "output_type": "stream",
     "text": [
      "Before: (2, 3, 4) \n",
      "\n",
      "After: (2, 2, 6)\n"
     ]
    }
   ],
   "source": [
    "print(\"Before:\",data.shape,\"\\n\")\n",
    "# make it 2,2 and not care about last value\n",
    "# it will be automatically calculated\n",
    "data = data.reshape((2,2,-1)) \n",
    "print(\"After:\",data.shape)"
   ]
  },
  {
   "cell_type": "code",
   "execution_count": 42,
   "metadata": {},
   "outputs": [
    {
     "name": "stdout",
     "output_type": "stream",
     "text": [
      "[0. 0. 0. 0. 0. 0. 0. 0.]\n",
      "[0. 0. 0. 0. 0. 0. 0. 0. 3. 4.]\n"
     ]
    }
   ],
   "source": [
    "# Append Array\n",
    "zerosarr = np.zeros((8))\n",
    "print(zerosarr)\n",
    "zerosarr = np.append(zerosarr, [3,4])\n",
    "print(zerosarr)"
   ]
  },
  {
   "cell_type": "code",
   "execution_count": 43,
   "metadata": {},
   "outputs": [
    {
     "name": "stdout",
     "output_type": "stream",
     "text": [
      "[0. 0. 1. 0. 0. 0. 0. 0. 0. 3. 4.]\n"
     ]
    }
   ],
   "source": [
    "# insert at specified index (2), and value (1)\n",
    "zerosarr = np.insert(zerosarr, 2, 1)\n",
    "print(zerosarr)"
   ]
  },
  {
   "cell_type": "markdown",
   "metadata": {},
   "source": [
    "# 4. Delete"
   ]
  },
  {
   "cell_type": "code",
   "execution_count": 47,
   "metadata": {},
   "outputs": [
    {
     "name": "stdout",
     "output_type": "stream",
     "text": [
      "initially:\n",
      " [[[1.36523886e-01 2.55118516e-01 8.15515302e-01 7.00000000e+02\n",
      "   1.11441402e-01 4.95295692e-01]\n",
      "  [7.50190089e-01 9.09725571e-01 2.70732541e-01 2.82020618e-01\n",
      "   2.97845516e-01 8.15881639e-01]]\n",
      "\n",
      " [[3.18348382e-01 3.71021896e-01 5.92966590e-01 8.04048595e-01\n",
      "   5.46668186e-01 6.74554302e-01]\n",
      "  [7.58840402e-01 8.55289256e-01 6.86143788e-02 9.97738679e-02\n",
      "   5.23990276e-01 8.20889454e-01]]] \n",
      "\n"
     ]
    },
    {
     "data": {
      "text/plain": [
       "array([[[0.75019009, 0.90972557, 0.27073254, 0.28202062, 0.29784552,\n",
       "         0.81588164]],\n",
       "\n",
       "       [[0.7588404 , 0.85528926, 0.06861438, 0.09977387, 0.52399028,\n",
       "         0.82088945]]])"
      ]
     },
     "execution_count": 47,
     "metadata": {},
     "output_type": "execute_result"
    }
   ],
   "source": [
    "print(\"initially:\\n\",data,\"\\n\")\n",
    "# delete the first array in the 2 sub arrays\n",
    "## level=0, axis=1(row)\n",
    "np.delete(data, 0, axis=1) \n",
    "# it returns the new array, won't update the original one"
   ]
  },
  {
   "cell_type": "code",
   "execution_count": 45,
   "metadata": {},
   "outputs": [],
   "source": [
    "# save the array\n",
    "np.save(\"numpy_array\", data)"
   ]
  },
  {
   "cell_type": "code",
   "execution_count": 46,
   "metadata": {},
   "outputs": [
    {
     "name": "stdout",
     "output_type": "stream",
     "text": [
      "[[[1.36523886e-01 2.55118516e-01 8.15515302e-01 7.00000000e+02\n",
      "   1.11441402e-01 4.95295692e-01]\n",
      "  [7.50190089e-01 9.09725571e-01 2.70732541e-01 2.82020618e-01\n",
      "   2.97845516e-01 8.15881639e-01]]\n",
      "\n",
      " [[3.18348382e-01 3.71021896e-01 5.92966590e-01 8.04048595e-01\n",
      "   5.46668186e-01 6.74554302e-01]\n",
      "  [7.58840402e-01 8.55289256e-01 6.86143788e-02 9.97738679e-02\n",
      "   5.23990276e-01 8.20889454e-01]]]\n"
     ]
    }
   ],
   "source": [
    "# reload the array\n",
    "test = np.load(\"numpy_array.npy\")\n",
    "print(test)"
   ]
  }
 ],
 "metadata": {
  "kernelspec": {
   "display_name": "Python 3",
   "language": "python",
   "name": "python3"
  },
  "language_info": {
   "codemirror_mode": {
    "name": "ipython",
    "version": 3
   },
   "file_extension": ".py",
   "mimetype": "text/x-python",
   "name": "python",
   "nbconvert_exporter": "python",
   "pygments_lexer": "ipython3",
   "version": "3.10.6"
  }
 },
 "nbformat": 4,
 "nbformat_minor": 2
}
